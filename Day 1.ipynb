{
 "cells": [
  {
   "cell_type": "code",
   "execution_count": 20,
   "id": "d0afc08f-aad1-4bd2-bd97-fff05675531c",
   "metadata": {},
   "outputs": [
    {
     "name": "stdout",
     "output_type": "stream",
     "text": [
      "Slope:  0.4033084434865465\n",
      "Inter 5.759004663200356\n",
      "The mean squared error 2.2990186764245797\n"
     ]
    }
   ],
   "source": [
    "# Question 1: Gradient Descent for Single Variable:** Implement linear regression with one feature (e.g., `x`) using gradient descent from\n",
    "# scratch (using only NumPy).\n",
    "\n",
    "import numpy as np\n",
    "x=np.array([1,2,3,4])\n",
    "y=np.array([5,6,7,8])\n",
    "\n",
    "\n",
    "for i in range(0,10):\n",
    "    m=i\n",
    "    c=i\n",
    "    alpha=0.01\n",
    "\n",
    "\n",
    "    n = len(x)\n",
    "\n",
    "\n",
    "    for i in range(100):\n",
    "        y_pred=m*x+c\n",
    "        dm=(1/n)*np.sum((y_pred-y)*x)\n",
    "        dc=(1/n)*np.sum((y_pred-y))\n",
    "\n",
    "        m=m-(alpha*dm)\n",
    "        c=c-(alpha*dc)\n",
    "        mse=(1/2*n) * (np.sum(y-y_pred)**2)\n",
    "print(\"Slope: \",m)\n",
    "print(\"Inter\",c)\n",
    "print(\"The mean squared error\", mse)\n",
    "\n"
   ]
  },
  {
   "cell_type": "code",
   "execution_count": 19,
   "id": "47e98ac6-e0b9-4613-8bb3-d238d8a18341",
   "metadata": {},
   "outputs": [
    {
     "name": "stdout",
     "output_type": "stream",
     "text": [
      "Final slope (m): 1.249434023609302\n",
      "Final intercept (c): 3.266633552936179\n",
      "Mean Squared Error:  0.3868197349490939\n"
     ]
    }
   ],
   "source": [
    "import numpy as np\n",
    "\n",
    "x = np.array([1, 2, 3, 4])\n",
    "y = np.array([5, 6, 7, 8])\n",
    "\n",
    "m, c = 0, 0\n",
    "alpha = 0.01\n",
    "epochs = 1000\n",
    "n = len(x)\n",
    "\n",
    "for i in range(epochs):\n",
    "    y_pred = m * x + c\n",
    "    dm = (1/n) * np.sum((y_pred - y) * x)\n",
    "    dc = (1/n) * np.sum(y_pred - y)\n",
    "    m = m - alpha * dm\n",
    "    c = c - alpha * dc\n",
    "\n",
    "    mse=(1/2*n) * (np.sum(y-y_pred)**2)\n",
    "\n",
    "print(\"Final slope (m):\", m)\n",
    "print(\"Final intercept (c):\", c)\n",
    "print(\"Mean Squared Error: \",mse)\n"
   ]
  },
  {
   "cell_type": "code",
   "execution_count": null,
   "id": "d7656094-f84f-4098-814a-aad6eee56aa0",
   "metadata": {},
   "outputs": [],
   "source": []
  }
 ],
 "metadata": {
  "kernelspec": {
   "display_name": "Python 3 (ipykernel)",
   "language": "python",
   "name": "python3"
  },
  "language_info": {
   "codemirror_mode": {
    "name": "ipython",
    "version": 3
   },
   "file_extension": ".py",
   "mimetype": "text/x-python",
   "name": "python",
   "nbconvert_exporter": "python",
   "pygments_lexer": "ipython3",
   "version": "3.13.5"
  }
 },
 "nbformat": 4,
 "nbformat_minor": 5
}
